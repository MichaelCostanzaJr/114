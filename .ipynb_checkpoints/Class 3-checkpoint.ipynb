{
 "cells": [
  {
   "cell_type": "markdown",
   "id": "872341c0",
   "metadata": {},
   "source": [
    "# Balanced parentheses check\n",
    "\n",
    "### Given a string of opening and closing parentheses, check whether it is balaced.\n",
    "### There are 3 types of parentheses here: round (), square brackets [], and curly brackets (braces) {}\n",
    "\n",
    "_Assumptions__\n",
    "\n",
    "1. Assume the string doesn't contain any other character other than the ones mentioned above (no spaces, words or numbers).\n",
    "2. Balance parentheses require every opening parentheses to be closed in the reverse order opened.\n",
    "\n",
    "```\n",
    "Examples:\n",
    "balance_check(\"([{}])\") should return True\n",
    "balance_check(\"{{{}}]\") should return False\n",
    "\n",
    "Similarly:\n",
    "\"()()(){{{}}}\" is a balanced string\n",
    "\"()(){]((()))\" is not\n",
    "```\n",
    "\n",
    "#### Instructions\n",
    "Create a function called \"balance_check\" that takes a string as its parameter and returns True if it is balaced considering the criteria mentioned above; False otherwise."
   ]
  },
  {
   "cell_type": "code",
   "execution_count": 4,
   "id": "4f5c06a8",
   "metadata": {},
   "outputs": [],
   "source": [
    "def balance_check(s):\n",
    "    if len(s) % 2 != 0:\n",
    "        return False\n",
    "    opening = set(\"([{\")\n",
    "    matches = set([\n",
    "        (\"(\", \")\"),\n",
    "        (\"[\", \"]\"),\n",
    "        (\"{\", \"}\")\n",
    "    ])h\n",
    "    stack = []\n",
    "    for paren in s:\n",
    "        if paren in opening:\n",
    "            stack.append(paren)\n",
    "        else:\n",
    "            if stack == []:\n",
    "                return False\n",
    "            last_open = stack.pop()\n",
    "            if (last_open, paren) not in matches:\n",
    "                return False\n",
    "    return stack == []\n",
    "    \n",
    "    "
   ]
  },
  {
   "cell_type": "code",
   "execution_count": 5,
   "id": "9be52f11",
   "metadata": {},
   "outputs": [
    {
     "data": {
      "text/plain": [
       "True"
      ]
     },
     "execution_count": 5,
     "metadata": {},
     "output_type": "execute_result"
    }
   ],
   "source": [
    "balance_check(\"((()))\")"
   ]
  },
  {
   "cell_type": "code",
   "execution_count": 6,
   "id": "8ff95f39",
   "metadata": {},
   "outputs": [
    {
     "data": {
      "text/plain": [
       "False"
      ]
     },
     "execution_count": 6,
     "metadata": {},
     "output_type": "execute_result"
    }
   ],
   "source": [
    "balance_check(\"{{{(}}}\")"
   ]
  },
  {
   "cell_type": "markdown",
   "id": "f3c99137",
   "metadata": {},
   "source": [
    "# Given the stack class below, implement a queue class using two stacks.\n",
    "\n",
    "### Note, this is a \"classic\" interview problem.\n",
    "\n",
    "### You may use a python list data structure as your stack but it must behave like a stack at all times.\n",
    "\n",
    "### The goal is to create a queue which is FIFO by using two stacks which are LIFO."
   ]
  },
  {
   "cell_type": "code",
   "execution_count": 9,
   "id": "4f1dec0b",
   "metadata": {},
   "outputs": [],
   "source": [
    "class Queue25tacks:\n",
    "    def __init__(self):\n",
    "        # Two stacks\n",
    "        self.stack1 = []\n",
    "        self.stack2 = []\n",
    "    \n",
    "    def enqueue(self,element):\n",
    "        # Fill out code here\n",
    "        pass\n",
    "    def dequeue(self):\n",
    "        # Fill out code here\n",
    "        pass"
   ]
  },
  {
   "cell_type": "code",
   "execution_count": 53,
   "id": "e9875107",
   "metadata": {},
   "outputs": [],
   "source": [
    "class Node:\n",
    "    def __init__(self, data):\n",
    "        self.next = None\n",
    "        self.data = data\n",
    "\n",
    "class SinglyLinkedList:\n",
    "    def __init__(self):\n",
    "        self.head = None\n",
    "        \n",
    "    def append(self, element):\n",
    "        if not self.head:\n",
    "            self.head = Node(element)\n",
    "        else:\n",
    "            current = self.head\n",
    "            while current.next:\n",
    "                current = current.next\n",
    "            current.next = Node(element)\n",
    "            \n",
    "    def insert(self, index, element):\n",
    "        if not self.head:\n",
    "            self.head = Node(element)\n",
    "        else:\n",
    "            counter = 0\n",
    "            current = self.head\n",
    "            prev = None\n",
    "            while current.next and counter != index:\n",
    "                prev = current\n",
    "                current = current.next\n",
    "                counter += 1\n",
    "            if index == 0:\n",
    "                current_head = self.head\n",
    "                new_node = Node(element)\n",
    "                new_node.next = current_head\n",
    "                self.head = new_node\n",
    "            elif counter != index:\n",
    "                current.next = Node(element)\n",
    "            elif counter == index:\n",
    "                new_node = Node(element)\n",
    "                prev.next = new_node\n",
    "                new_node.next = current\n",
    "                \n",
    "    def remove(self, value):\n",
    "        found = False\n",
    "        if self.head:\n",
    "            current = self.head\n",
    "            if current.data == value:\n",
    "                self.head = self.head.next\n",
    "                found = True\n",
    "            else:\n",
    "                prev = None\n",
    "                while current.next and current.data != value:\n",
    "                    prev = current\n",
    "                    current = current.next\n",
    "                if current.data == value:\n",
    "                    prev.next = current.next\n",
    "                    found = True\n",
    "        if not found:                                   # if found != True\n",
    "            raise ValueError(\"%s not in list\" % value)\n",
    "                \n",
    "                \n",
    "                \n",
    "    def __str__(self):\n",
    "        out = \"[%s\" % self.head.data\n",
    "        current = self.head\n",
    "        while current:\n",
    "            current = current.next\n",
    "            if current:\n",
    "                out += \", %s\" % current.data\n",
    "        out += \"]\"\n",
    "        return out\n",
    "    \n",
    "    \n",
    "    def __len__(self):\n",
    "        # This function should return the length of our list as an integer\n",
    "        if not self.head:\n",
    "            return 0\n",
    "        else:\n",
    "            counter = 0\n",
    "            current = self.head\n",
    "            while current != None:\n",
    "                counter += 1\n",
    "                current = current.next\n",
    "            return counter\n",
    "    \n",
    "    def count(self, value):\n",
    "        # This function should return the number of times a value exists\n",
    "        # in our list\n",
    "        if not self.head:\n",
    "            return 0\n",
    "        else: \n",
    "            current = self.head\n",
    "            while current:\n",
    "                if current.data == value:\n",
    "                    counter += 1\n",
    "                current = current.next\n",
    "                \n",
    "        return counter\n",
    "            \n",
    "             \n",
    "        \n",
    "    def index(self, value):\n",
    "        # Returns the first index of \"value\" if found or ValueError if not found\n",
    "        if self.head == None:\n",
    "            raise ValueError(\"List is empty\")\n",
    "        pointer = self.head\n",
    "        counter = 0\n",
    "        while pointer:\n",
    "            if pointer.data == value:\n",
    "                return counter\n",
    "            pointer = pointer.next\n",
    "            counter += 1\n",
    "        raise ValueError(\"Value not found\")\n",
    "        \n",
    "        \n",
    "         "
   ]
  },
  {
   "cell_type": "code",
   "execution_count": 54,
   "id": "57703a8a",
   "metadata": {},
   "outputs": [
    {
     "name": "stdout",
     "output_type": "stream",
     "text": [
      "[1, 2, 3, 4, 5]\n"
     ]
    }
   ],
   "source": [
    "mylist = [1, 2, 3, 4, 5]\n",
    "\n",
    "print(mylist)"
   ]
  },
  {
   "cell_type": "code",
   "execution_count": 59,
   "id": "90b7dea0",
   "metadata": {},
   "outputs": [
    {
     "name": "stdout",
     "output_type": "stream",
     "text": [
      "[1, 2, 3, 4, 5]\n",
      "[0, 1, 2, 3, 4, 5]\n",
      "[0, 1, 1.5, 2, 3, 4, 5]\n",
      "[0, 1, 1.5, 2, 3, 4, 5, 6]\n",
      "Remove head:\n",
      "[1, 1.5, 2, 3, 4, 5, 6]\n",
      "[1.5, 2, 3, 4, 5, 6]\n",
      "[A]\n",
      "[1.5, 2, 3, 4, 5, 6]\n",
      "[0, 1.5, 2, 3, 4, 5, 6]\n"
     ]
    },
    {
     "data": {
      "text/plain": [
       "7"
      ]
     },
     "execution_count": 59,
     "metadata": {},
     "output_type": "execute_result"
    }
   ],
   "source": [
    "sll = SinglyLinkedList()\n",
    "\n",
    "for number in range(1,6):\n",
    "    sll.append(number)\n",
    "print(sll)\n",
    "\n",
    "sll.insert(0,0)\n",
    "\n",
    "print(sll)\n",
    "\n",
    "sll.insert(2, '1.5')\n",
    "print(sll)\n",
    "\n",
    "sll.insert(1000, 6)\n",
    "print(sll)\n",
    "\n",
    "print(\"Remove head:\")\n",
    "sll.remove(0)\n",
    "\n",
    "print(sll)\n",
    "\n",
    "sll.remove(1)\n",
    "\n",
    "print(sll)\n",
    "\n",
    "sll2 = SinglyLinkedList()\n",
    "sll2.insert(100, 'A')\n",
    "print(sll2)\n",
    "\n",
    "\n",
    "len(sll)\n",
    "\n",
    "print(sll)\n",
    "\n",
    "len(sll)\n",
    "\n",
    "sll.insert(0,0)\n",
    "\n",
    "print(sll)\n",
    "\n",
    "len(sll)"
   ]
  },
  {
   "cell_type": "code",
   "execution_count": 6,
   "id": "7a5e4f6f",
   "metadata": {},
   "outputs": [],
   "source": [
    "class QNode:\n",
    "    def __init__(self, data):\n",
    "        self.front = None\n",
    "        self.back = None\n",
    "        self.data = data\n",
    "\n",
    "class Queue:\n",
    "    def __init__(self):\n",
    "        self.first = None\n",
    "        self.last = None\n",
    "        \n",
    "    def enqueue(self, element):\n",
    "        new_node = QNode(element)\n",
    "        if not self.last:\n",
    "            self.last = new_node\n",
    "            self.first = self.last\n",
    "            \n",
    "        else:\n",
    "            new_node.front = self.last\n",
    "            self.last.back = new_node\n",
    "            self.last = new_node\n",
    "            \n",
    "    def dequeue(self):\n",
    "        if not self.front:\n",
    "            raise IndexError(\"Queue is empty\")\n",
    "        if self.first == self.last:\n",
    "            value = self.first\n",
    "            self.first = None\n",
    "            self.last = None\n",
    "            return value\n",
    "        \n",
    "        value = self.first.data\n",
    "        self.first = self.first.back\n",
    "        self.first.front = None\n",
    "        return value\n",
    "    def size(self):\n",
    "        if not self.first:\n",
    "            return 0\n",
    "        counter = 0\n",
    "        pointer = self.last\n",
    "        while pointer:\n",
    "            counter += 1\n",
    "            pointer = pointer.front\n",
    "        return counter"
   ]
  },
  {
   "cell_type": "code",
   "execution_count": 7,
   "id": "0eaf466b",
   "metadata": {},
   "outputs": [
    {
     "data": {
      "text/plain": [
       "2"
      ]
     },
     "execution_count": 7,
     "metadata": {},
     "output_type": "execute_result"
    }
   ],
   "source": [
    "myqueue=Queue()\n",
    "myqueue.enqueue(5)\n",
    "myqueue.enqueue(6)\n",
    "myqueue.size()"
   ]
  },
  {
   "cell_type": "code",
   "execution_count": 8,
   "id": "df4c38f7",
   "metadata": {},
   "outputs": [],
   "source": [
    "class Stack:\n",
    "    def __init__(self):\n",
    "        self.base = None\n",
    "        self.top = None\n",
    "        \n",
    "    def push(self, element):\n",
    "        if not self.base:\n",
    "            self.base = Node(element)\n",
    "            self.top = self.base\n",
    "        else: \n",
    "            topmost_item = self.top\n",
    "            new_node = Node(element)\n",
    "            topmost_item.above = Node(element)\n",
    "            new_node.below = topmost_item\n",
    "            self.top = new_node\n",
    "        \n",
    "    def pop(self):\n",
    "        if not self.base:\n",
    "            raise IndexError(\"Stack empty\")\n",
    "        if self.top == self.base:\n",
    "            value = self.base.data\n",
    "            self.top = None\n",
    "            self.base = None\n",
    "            return value\n",
    "        new_top = self.top.below\n",
    "        old_top = self.top\n",
    "        new_top.above = None\n",
    "        self.top = new_top\n",
    "        return old_top.data\n",
    "    \n",
    "    def size(self):\n",
    "        # should return the total amount of elements in our stack\n",
    "        # this should retrun an Integer that represents our stack's size.\n",
    "        if not self.base: \n",
    "            return 0\n",
    "        counter = 1\n",
    "        current = self.base\n",
    "        while current.above:\n",
    "            counter += 1\n",
    "            current = current.above\n",
    "        return counter\n",
    "    \n",
    "    def is_empty(self):\n",
    "        # should return true if stack is empty, False otherwise\n",
    "        if not self.base:\n",
    "            return True\n",
    "        return False\n",
    "    \n",
    "    def peek(self):\n",
    "        # should return the \"data\" associated with the topmost Node without removing said Node from our Stack\n",
    "        return self.top.data"
   ]
  },
  {
   "cell_type": "code",
   "execution_count": null,
   "id": "a887ce73",
   "metadata": {},
   "outputs": [],
   "source": []
  }
 ],
 "metadata": {
  "kernelspec": {
   "display_name": "Python 3 (ipykernel)",
   "language": "python",
   "name": "python3"
  },
  "language_info": {
   "codemirror_mode": {
    "name": "ipython",
    "version": 3
   },
   "file_extension": ".py",
   "mimetype": "text/x-python",
   "name": "python",
   "nbconvert_exporter": "python",
   "pygments_lexer": "ipython3",
   "version": "3.10.4"
  }
 },
 "nbformat": 4,
 "nbformat_minor": 5
}
