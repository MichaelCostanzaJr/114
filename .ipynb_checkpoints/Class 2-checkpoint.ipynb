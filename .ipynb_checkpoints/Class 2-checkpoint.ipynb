{
 "cells": [
  {
   "cell_type": "code",
   "execution_count": 10,
   "id": "93b4102e",
   "metadata": {},
   "outputs": [],
   "source": [
    "class Node:\n",
    "    def __init__(self, data):\n",
    "        self.above = None\n",
    "        self.below = None\n",
    "        self.data = data"
   ]
  },
  {
   "cell_type": "code",
   "execution_count": 25,
   "id": "306a5e1c",
   "metadata": {},
   "outputs": [],
   "source": [
    "class Stack:\n",
    "    def __init__(self):\n",
    "        self.base = None\n",
    "        self.top = None\n",
    "        \n",
    "    def push(self, element):\n",
    "        if not self.base:\n",
    "            self.base = Node(element)\n",
    "            self.top = self.base\n",
    "        else: \n",
    "            topmost_item = self.top\n",
    "            new_node = Node(element)\n",
    "            topmost_item.above = Node(element)\n",
    "            new_node.below = topmost_item\n",
    "            self.top = new_node\n",
    "        \n",
    "    def pop(self):\n",
    "        if not self.base:\n",
    "            raise IndexError(\"Stack empty\")\n",
    "        if self.top == self.base:\n",
    "            value = self.base.data\n",
    "            self.top = None\n",
    "            self.base = None\n",
    "            return value\n",
    "        new_top = self.top.below\n",
    "        old_top = self.top\n",
    "        new_top.above = None\n",
    "        self.top = new_top\n",
    "        return old_top.data\n",
    "    \n",
    "    def size(self):\n",
    "        # should return the total amount of elements in our stack\n",
    "        # this should retrun an Integer that represents our stack's size.\n",
    "        if not self.base: \n",
    "            return 0\n",
    "        counter = 1\n",
    "        current = self.base\n",
    "        while current.above:\n",
    "            counter += 1\n",
    "            current = current.above\n",
    "        return counter\n",
    "    \n",
    "    def is_empty(self):\n",
    "        # should return true if stack is empty, False otherwise\n",
    "        pass\n",
    "    \n",
    "    def peek(self):\n",
    "        # should return the \"data\" associated with the topmost Node without removing said Node from our Stack\n",
    "        pass"
   ]
  },
  {
   "cell_type": "code",
   "execution_count": 21,
   "id": "b3d176a1",
   "metadata": {},
   "outputs": [],
   "source": [
    "def reverse_string(mystring):\n",
    "    output_str = \"\"\n",
    "    stack = Stack()\n",
    "    for letter in mystring:\n",
    "        stack.push(letter)\n",
    "    for _ in range(len(mystring)):\n",
    "        output_str += stack.pop()\n",
    "    return output_str"
   ]
  },
  {
   "cell_type": "code",
   "execution_count": 22,
   "id": "69b56c47",
   "metadata": {},
   "outputs": [
    {
     "data": {
      "text/plain": [
       "'leahciM'"
      ]
     },
     "execution_count": 22,
     "metadata": {},
     "output_type": "execute_result"
    }
   ],
   "source": [
    "reverse_string(\"Michael\")"
   ]
  },
  {
   "cell_type": "code",
   "execution_count": 32,
   "id": "879c7b28",
   "metadata": {},
   "outputs": [
    {
     "name": "stdout",
     "output_type": "stream",
     "text": [
      "2\n"
     ]
    }
   ],
   "source": [
    "stack = Stack()\n",
    "for i in range(10):\n",
    "    stack.push(i)\n",
    "try:\n",
    "    assert stack.size() == 10\n",
    "    print(\"TOK!\")\n",
    "except Exception as e:\n",
    "    print(stack.size())"
   ]
  },
  {
   "cell_type": "code",
   "execution_count": 35,
   "id": "ea65be82",
   "metadata": {},
   "outputs": [],
   "source": [
    "class Queue:\n",
    "    def __init__(self):\n",
    "        self.items = []\n",
    "        \n",
    "    def enqueue(self, element):\n",
    "        self.items.insert(0, element)\n",
    "        \n",
    "    def dequeue(self):\n",
    "        return self.items.pop()\n",
    "    \n",
    "    def size(self):\n",
    "        return len(self.items)\n",
    "    \n",
    "    def is_empty(self):\n",
    "        return self.items == []\n",
    "    \n",
    "    def peek(self):\n",
    "        return self.items[len(self.items)-1]"
   ]
  },
  {
   "cell_type": "code",
   "execution_count": 37,
   "id": "98f0e7de",
   "metadata": {},
   "outputs": [
    {
     "name": "stdout",
     "output_type": "stream",
     "text": [
      "Element: 0\n",
      "Element: 1\n",
      "Element: 2\n",
      "Element: 3\n",
      "Element: 4\n",
      "Element: 5\n",
      "Element: 6\n",
      "Element: 7\n",
      "Element: 8\n",
      "Element: 9\n"
     ]
    }
   ],
   "source": [
    "queue = Queue()\n",
    "\n",
    "for i in range(10):\n",
    "    queue.enqueue(i)\n",
    "    \n",
    "while not queue.is_empty():\n",
    "    print(\"Element: %s\" % queue.dequeue())"
   ]
  },
  {
   "cell_type": "code",
   "execution_count": 38,
   "id": "362b205b",
   "metadata": {},
   "outputs": [],
   "source": [
    "# Implement a Que class without using a Python list based on our approach with Stack.\n",
    "# Consider using a Node class for this a well."
   ]
  },
  {
   "cell_type": "code",
   "execution_count": 40,
   "id": "7439b46b",
   "metadata": {},
   "outputs": [],
   "source": [
    "class QNode:\n",
    "    def __init__(self, data):\n",
    "        self.front = None\n",
    "        self.back = None\n",
    "        self.data = data\n",
    "\n",
    "class Queue:\n",
    "    def __init__(self):\n",
    "        self.next = None\n",
    "        self.last = None\n",
    "        \n",
    "    def enqueue(self, element):\n",
    "        new_node = QNode(element)\n",
    "        if not self.last:\n",
    "            self.last = new_node\n",
    "            self.next = self.last\n",
    "            \n",
    "        else:\n",
    "            new_node.front = self.last\n",
    "            self.last.back = new_node\n",
    "            self.last = new_node\n",
    "            \n"
   ]
  },
  {
   "cell_type": "code",
   "execution_count": null,
   "id": "c681eac3",
   "metadata": {},
   "outputs": [],
   "source": []
  }
 ],
 "metadata": {
  "kernelspec": {
   "display_name": "Python 3 (ipykernel)",
   "language": "python",
   "name": "python3"
  },
  "language_info": {
   "codemirror_mode": {
    "name": "ipython",
    "version": 3
   },
   "file_extension": ".py",
   "mimetype": "text/x-python",
   "name": "python",
   "nbconvert_exporter": "python",
   "pygments_lexer": "ipython3",
   "version": "3.10.4"
  }
 },
 "nbformat": 4,
 "nbformat_minor": 5
}
