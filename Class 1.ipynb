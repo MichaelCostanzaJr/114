{
 "cells": [
  {
   "cell_type": "code",
   "execution_count": 2,
   "id": "8c4fef5c",
   "metadata": {
    "scrolled": false
   },
   "outputs": [
    {
     "name": "stdout",
     "output_type": "stream",
     "text": [
      "h\n",
      "e\n",
      "l\n",
      "l\n",
      "o\n",
      ",\n",
      " \n",
      "w\n",
      "o\n",
      "r\n",
      "l\n",
      "d\n"
     ]
    }
   ],
   "source": [
    "for letter in \"hello, world\":\n",
    "    print(letter)"
   ]
  },
  {
   "cell_type": "markdown",
   "id": "df8e6d1f",
   "metadata": {},
   "source": [
    "# Problem 1"
   ]
  },
  {
   "cell_type": "markdown",
   "id": "afd96be0",
   "metadata": {},
   "source": [
    "### Given two string (string_a and string_b) determine if they are anagrams of each other given the following criteria\n",
    "\n",
    "> Two strings are only anagrams of each other if all conditions below are met:\n",
    "> * They must be exactly the same length\n",
    "> * They must use exactly the same characters (no more, no less).\n",
    "\n",
    "`Examples: cars and scar, heart and earth, etc.`\n",
    "\n",
    "## Instructions\n",
    "Create a function called \"anagram_check\" that returns true if the two parameters (both strings) submitted are anagrams of each other and false otherwise."
   ]
  },
  {
   "cell_type": "code",
   "execution_count": 3,
   "id": "66818588",
   "metadata": {},
   "outputs": [],
   "source": [
    "def anagram_check(str1, str2):\n",
    "    return sorted(str1) == sorted(str2)"
   ]
  },
  {
   "cell_type": "code",
   "execution_count": 4,
   "id": "e6a34458",
   "metadata": {},
   "outputs": [
    {
     "data": {
      "text/plain": [
       "True"
      ]
     },
     "execution_count": 4,
     "metadata": {},
     "output_type": "execute_result"
    }
   ],
   "source": [
    "anagram_check(\"heart\", \"earth\")"
   ]
  },
  {
   "cell_type": "code",
   "execution_count": 5,
   "id": "8fa1b078",
   "metadata": {},
   "outputs": [],
   "source": [
    "# input field 1 for user (Insert Text)\n",
    "# input field 2 for user (Insert Text)\n",
    "# Define variables for each inserted text\n",
    "# if len(1) == len(2)\n",
    "# return true\n",
    "# else \n",
    "# return false"
   ]
  },
  {
   "cell_type": "code",
   "execution_count": 7,
   "id": "fe189317",
   "metadata": {},
   "outputs": [],
   "source": [
    "def anagram_check(string_a, string_b):\n",
    "    if len(string_a) != len(string_b):\n",
    "        return False\n",
    "    char_times_a = dict()\n",
    "    char_times_b = dict()\n",
    "    for i in range(len(string_a)):\n",
    "        if string_a[i] not in char_times_a.keys():\n",
    "            char_times_a[string_a[i]] = 1\n",
    "        else:\n",
    "            char_times_a[string_a[i]] += 1\n",
    "        if string_b[i] not in char_times_b.keys():\n",
    "            char_times_b[string_b[i]] = 1\n",
    "        else:\n",
    "            char_times_b[string_b[i]] += 1\n",
    "    return char_times_a == char_times_b"
   ]
  },
  {
   "cell_type": "code",
   "execution_count": 8,
   "id": "39591082",
   "metadata": {},
   "outputs": [
    {
     "data": {
      "text/plain": [
       "True"
      ]
     },
     "execution_count": 8,
     "metadata": {},
     "output_type": "execute_result"
    }
   ],
   "source": [
    "anagram_check (\"hi\", \"ih\")"
   ]
  },
  {
   "cell_type": "code",
   "execution_count": 19,
   "id": "d5ba6bae",
   "metadata": {},
   "outputs": [],
   "source": [
    "def anagram_check(string_a, string_b):\n",
    "    string_a = string_a.lower().replace(\" \", \"\")\n",
    "    string_b = string_b.lower().replace(\" \", \"\")\n",
    "    if len(string_a) != len(string_b):\n",
    "        return False\n",
    "    char_times_a = dict()\n",
    "    char_times_b = dict()\n",
    "    for i in range(len(string_a)):\n",
    "        if string_a[i] not in char_times_a.keys():\n",
    "            char_times_a[string_a[i]] = 1\n",
    "        else:\n",
    "            char_times_a[string_a[i]] += 1\n",
    "        if string_b[i] not in char_times_b.keys():\n",
    "            char_times_b[string_b[i]] = 1\n",
    "        else:\n",
    "            char_times_b[string_b[i]] += 1\n",
    "    return char_times_a == char_times_b"
   ]
  },
  {
   "cell_type": "code",
   "execution_count": 20,
   "id": "b7084877",
   "metadata": {},
   "outputs": [
    {
     "data": {
      "text/plain": [
       "True"
      ]
     },
     "execution_count": 20,
     "metadata": {},
     "output_type": "execute_result"
    }
   ],
   "source": [
    "anagram_check(\"i am lord voldemort\", \"tom marvolo riddle\")"
   ]
  },
  {
   "cell_type": "code",
   "execution_count": 21,
   "id": "32a5c2b8",
   "metadata": {},
   "outputs": [],
   "source": [
    "class Stack:\n",
    "    def __init__(self):\n",
    "        self.items = []\n",
    "        \n",
    "    def push(self, element):\n",
    "        self.items.append(element)\n",
    "        \n",
    "    def pop(self):\n",
    "        self.items.pop()\n",
    "    \n",
    "    def size(self):\n",
    "        return len(self.items)\n",
    "    \n",
    "    def peek(self):\n",
    "        return self.items[len(self.items-1)]\n",
    "        \n",
    "    def is_empty(self):\n",
    "        return self.items == []"
   ]
  },
  {
   "cell_type": "markdown",
   "id": "06c6bb2b",
   "metadata": {},
   "source": [
    "# Problem 2\n",
    "### Use our stack class to invert a string.\n",
    "\n",
    "## Instructions\n",
    "Create a function called \"string_reverse\" that takes a string as a parameter and inverts it using our stack class.\n",
    "*Your function must use our stack class!*\n",
    "\n",
    "Examples:\n",
    "```\n",
    "string_reverse(\"Michael\") should return \"leahcim\"\n",
    "string_reverse(\"cars\") should return \"srac\"\n",
    "etc\n",
    "```"
   ]
  },
  {
   "cell_type": "code",
   "execution_count": null,
   "id": "fef26bba",
   "metadata": {},
   "outputs": [],
   "source": [
    "def string_reverse(mystring):\n",
    "    output_str = \"\"\n",
    "    stack = Stack()\n",
    "    for letter in mystring:\n",
    "        stack.push(letter)\n",
    "    while not stack.is_empty():\n",
    "        output_str += stack.pop()\n",
    "    return output_str"
   ]
  }
 ],
 "metadata": {
  "kernelspec": {
   "display_name": "Python 3 (ipykernel)",
   "language": "python",
   "name": "python3"
  },
  "language_info": {
   "codemirror_mode": {
    "name": "ipython",
    "version": 3
   },
   "file_extension": ".py",
   "mimetype": "text/x-python",
   "name": "python",
   "nbconvert_exporter": "python",
   "pygments_lexer": "ipython3",
   "version": "3.10.4"
  }
 },
 "nbformat": 4,
 "nbformat_minor": 5
}
